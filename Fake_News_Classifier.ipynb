{
  "nbformat": 4,
  "nbformat_minor": 0,
  "metadata": {
    "colab": {
      "name": "Fake News Classifier.ipynb",
      "provenance": [],
      "collapsed_sections": [],
      "authorship_tag": "ABX9TyNJuAXmwre5i9lONZ0MMszH",
      "include_colab_link": true
    },
    "kernelspec": {
      "name": "python3",
      "display_name": "Python 3"
    }
  },
  "cells": [
    {
      "cell_type": "markdown",
      "metadata": {
        "id": "view-in-github",
        "colab_type": "text"
      },
      "source": [
        "<a href=\"https://colab.research.google.com/github/arsyiadlani/hello/blob/master/Fake_News_Classifier.ipynb\" target=\"_parent\"><img src=\"https://colab.research.google.com/assets/colab-badge.svg\" alt=\"Open In Colab\"/></a>"
      ]
    },
    {
      "cell_type": "code",
      "metadata": {
        "id": "BFlQT3PKrw_4",
        "colab_type": "code",
        "colab": {}
      },
      "source": [
        "from zipfile import ZipFile\n",
        "\n",
        "zip_reader = ZipFile(\"/content/572515_1037534_bundle_archive.zip\", \"r\")\n",
        "zip_reader.extractall(\"/content\")\n",
        "zip_reader.close()"
      ],
      "execution_count": 0,
      "outputs": []
    },
    {
      "cell_type": "code",
      "metadata": {
        "id": "b2unbr3Xt59Y",
        "colab_type": "code",
        "colab": {
          "base_uri": "https://localhost:8080/",
          "height": 52
        },
        "outputId": "30515273-e70f-41a3-a069-3c42ed269067"
      },
      "source": [
        "import pandas as pd\n",
        "\n",
        "df1 = pd.read_csv(\"True.csv\")\n",
        "df1[\"label\"] = \"True News\"\n",
        "print(df1.shape)\n",
        "\n",
        "df2 = pd.read_csv(\"Fake.csv\")\n",
        "df2[\"label\"] = \"Fake News\"\n",
        "print(df2.shape)"
      ],
      "execution_count": 44,
      "outputs": [
        {
          "output_type": "stream",
          "text": [
            "(21417, 5)\n",
            "(23481, 5)\n"
          ],
          "name": "stdout"
        }
      ]
    },
    {
      "cell_type": "code",
      "metadata": {
        "id": "RQrYTfxkvWKG",
        "colab_type": "code",
        "colab": {
          "base_uri": "https://localhost:8080/",
          "height": 1000
        },
        "outputId": "3acab500-2e17-4c2e-a131-08c3de9493d1"
      },
      "source": [
        "import numpy as np\n",
        "df = pd.concat([df1, df2])\n",
        "print(df.shape)\n",
        "df = df.sample(frac=1).reset_index(drop=True)\n",
        "df.head(30)"
      ],
      "execution_count": 43,
      "outputs": [
        {
          "output_type": "stream",
          "text": [
            "(44898, 5)\n"
          ],
          "name": "stdout"
        },
        {
          "output_type": "execute_result",
          "data": {
            "text/html": [
              "<div>\n",
              "<style scoped>\n",
              "    .dataframe tbody tr th:only-of-type {\n",
              "        vertical-align: middle;\n",
              "    }\n",
              "\n",
              "    .dataframe tbody tr th {\n",
              "        vertical-align: top;\n",
              "    }\n",
              "\n",
              "    .dataframe thead th {\n",
              "        text-align: right;\n",
              "    }\n",
              "</style>\n",
              "<table border=\"1\" class=\"dataframe\">\n",
              "  <thead>\n",
              "    <tr style=\"text-align: right;\">\n",
              "      <th></th>\n",
              "      <th>title</th>\n",
              "      <th>text</th>\n",
              "      <th>subject</th>\n",
              "      <th>date</th>\n",
              "      <th>label</th>\n",
              "    </tr>\n",
              "  </thead>\n",
              "  <tbody>\n",
              "    <tr>\n",
              "      <th>0</th>\n",
              "      <td>Trump's taco tweet baffles, riles social media...</td>\n",
              "      <td>NEW YORK (Reuters) - U.S. Republican presiden...</td>\n",
              "      <td>politicsNews</td>\n",
              "      <td>May 5, 2016</td>\n",
              "      <td>True News</td>\n",
              "    </tr>\n",
              "    <tr>\n",
              "      <th>1</th>\n",
              "      <td>Top Democratic senator probes SWIFT, NY Fed ab...</td>\n",
              "      <td>(Reuters) - The Senate Homeland Security Commi...</td>\n",
              "      <td>politicsNews</td>\n",
              "      <td>May 19, 2016</td>\n",
              "      <td>True News</td>\n",
              "    </tr>\n",
              "    <tr>\n",
              "      <th>2</th>\n",
              "      <td>HE WAS SO CLOSE: We Were “Obamerica”…We Were M...</td>\n",
              "      <td>Obama and his supporters loved talking about h...</td>\n",
              "      <td>left-news</td>\n",
              "      <td>Jan 5, 2017</td>\n",
              "      <td>Fake News</td>\n",
              "    </tr>\n",
              "    <tr>\n",
              "      <th>3</th>\n",
              "      <td>Odebrecht paid firms linked to Peru's Kuczynsk...</td>\n",
              "      <td>LIMA (Reuters) - Brazilian builder Odebrecht t...</td>\n",
              "      <td>worldnews</td>\n",
              "      <td>December 14, 2017</td>\n",
              "      <td>True News</td>\n",
              "    </tr>\n",
              "    <tr>\n",
              "      <th>4</th>\n",
              "      <td>OOPS! HECKLERS FORCE HILLARY OFF Stage In LA A...</td>\n",
              "      <td>Karma s a bitch or is it the other way around?...</td>\n",
              "      <td>politics</td>\n",
              "      <td>May 7, 2016</td>\n",
              "      <td>Fake News</td>\n",
              "    </tr>\n",
              "    <tr>\n",
              "      <th>5</th>\n",
              "      <td>Blocking Internet oversight transition a 'gift...</td>\n",
              "      <td>WASHINGTON (Reuters) - Delaying or blocking a ...</td>\n",
              "      <td>politicsNews</td>\n",
              "      <td>September 14, 2016</td>\n",
              "      <td>True News</td>\n",
              "    </tr>\n",
              "    <tr>\n",
              "      <th>6</th>\n",
              "      <td>Iran nuclear deal must change if U.S. to stay:...</td>\n",
              "      <td>UNITED NATIONS (Reuters) - The Iran nuclear de...</td>\n",
              "      <td>worldnews</td>\n",
              "      <td>September 19, 2017</td>\n",
              "      <td>True News</td>\n",
              "    </tr>\n",
              "    <tr>\n",
              "      <th>7</th>\n",
              "      <td>Putin, on Iraqi Kurdistan, says Moscow handles...</td>\n",
              "      <td>MOSCOW (Reuters) - President Vladimir Putin sa...</td>\n",
              "      <td>worldnews</td>\n",
              "      <td>October 4, 2017</td>\n",
              "      <td>True News</td>\n",
              "    </tr>\n",
              "    <tr>\n",
              "      <th>8</th>\n",
              "      <td>In emotional farewell speech, Michelle Obama p...</td>\n",
              "      <td>WASHINGTON (Reuters) - First lady Michelle Oba...</td>\n",
              "      <td>politicsNews</td>\n",
              "      <td>January 7, 2017</td>\n",
              "      <td>True News</td>\n",
              "    </tr>\n",
              "    <tr>\n",
              "      <th>9</th>\n",
              "      <td>WATCH: GOP Senator Pleads With Trump To Drop ...</td>\n",
              "      <td>Mike Lee (R-Utah) has been a major figure in a...</td>\n",
              "      <td>News</td>\n",
              "      <td>October 8, 2016</td>\n",
              "      <td>Fake News</td>\n",
              "    </tr>\n",
              "    <tr>\n",
              "      <th>10</th>\n",
              "      <td>Adbusters Magazine Does Something BRILLIANT W...</td>\n",
              "      <td>Adbusters  latest magazine cover definitely li...</td>\n",
              "      <td>News</td>\n",
              "      <td>August 16, 2016</td>\n",
              "      <td>Fake News</td>\n",
              "    </tr>\n",
              "    <tr>\n",
              "      <th>11</th>\n",
              "      <td>Netanyahu sees U.S.-Israel ties 'reaching new ...</td>\n",
              "      <td>JERUSALEM (Reuters) - Prime Minister Benjamin ...</td>\n",
              "      <td>politicsNews</td>\n",
              "      <td>November 9, 2016</td>\n",
              "      <td>True News</td>\n",
              "    </tr>\n",
              "    <tr>\n",
              "      <th>12</th>\n",
              "      <td>France pays tribute to Paris dead two years on</td>\n",
              "      <td>PARIS (Reuters) - France, still on alert again...</td>\n",
              "      <td>worldnews</td>\n",
              "      <td>November 13, 2017</td>\n",
              "      <td>True News</td>\n",
              "    </tr>\n",
              "    <tr>\n",
              "      <th>13</th>\n",
              "      <td>OOPS! NEW EVIDENCE SHOWS WOMAN Who Accused Roy...</td>\n",
              "      <td>Infowars uncovered a bombshell when they disco...</td>\n",
              "      <td>left-news</td>\n",
              "      <td>Nov 10, 2017</td>\n",
              "      <td>Fake News</td>\n",
              "    </tr>\n",
              "    <tr>\n",
              "      <th>14</th>\n",
              "      <td>President Obama Tells Audience Why Americans ...</td>\n",
              "      <td>President Obama took a trip to Milan, Italy th...</td>\n",
              "      <td>News</td>\n",
              "      <td>May 9, 2017</td>\n",
              "      <td>Fake News</td>\n",
              "    </tr>\n",
              "    <tr>\n",
              "      <th>15</th>\n",
              "      <td>Jailed British-Iranian charity worker received...</td>\n",
              "      <td>BEIRUT (Reuters) - A British-Iranian charity w...</td>\n",
              "      <td>worldnews</td>\n",
              "      <td>October 17, 2017</td>\n",
              "      <td>True News</td>\n",
              "    </tr>\n",
              "    <tr>\n",
              "      <th>16</th>\n",
              "      <td>MALIA OBAMA Flashes Her Booty In Front Of Huge...</td>\n",
              "      <td>What was she thinking? 18 yr old Malia Obama w...</td>\n",
              "      <td>left-news</td>\n",
              "      <td>Jul 30, 2016</td>\n",
              "      <td>Fake News</td>\n",
              "    </tr>\n",
              "    <tr>\n",
              "      <th>17</th>\n",
              "      <td>WHEN A GOVERNMENT PUTS IMMIGRANTS BEFORE CITIZ...</td>\n",
              "      <td>Barack Obama and the Democrat party would like...</td>\n",
              "      <td>left-news</td>\n",
              "      <td>Dec 14, 2015</td>\n",
              "      <td>Fake News</td>\n",
              "    </tr>\n",
              "    <tr>\n",
              "      <th>18</th>\n",
              "      <td>U.S. Republican Ryan says wants 'Dreamer' acti...</td>\n",
              "      <td>WASHINGTON (Reuters) - House of Representative...</td>\n",
              "      <td>politicsNews</td>\n",
              "      <td>October 25, 2017</td>\n",
              "      <td>True News</td>\n",
              "    </tr>\n",
              "    <tr>\n",
              "      <th>19</th>\n",
              "      <td>WATCH: Mika Brzezinski UNLOADS Fury Against T...</td>\n",
              "      <td>The men of Morning Joe found Donald Trump s in...</td>\n",
              "      <td>News</td>\n",
              "      <td>September 29, 2016</td>\n",
              "      <td>Fake News</td>\n",
              "    </tr>\n",
              "    <tr>\n",
              "      <th>20</th>\n",
              "      <td>LAWLESS: OBAMA WON’T TAKE EXECUTIVE AMNESTY TO...</td>\n",
              "      <td>Why should Barack Obama bother with the courts...</td>\n",
              "      <td>left-news</td>\n",
              "      <td>May 28, 2015</td>\n",
              "      <td>Fake News</td>\n",
              "    </tr>\n",
              "    <tr>\n",
              "      <th>21</th>\n",
              "      <td>Lavrov: Russia-U.S. cooperation on Syria 'not ...</td>\n",
              "      <td>MOSCOW (Reuters) - There are problems with coo...</td>\n",
              "      <td>worldnews</td>\n",
              "      <td>September 29, 2017</td>\n",
              "      <td>True News</td>\n",
              "    </tr>\n",
              "    <tr>\n",
              "      <th>22</th>\n",
              "      <td>'Get off of Twitter': As Trump nears Day 100, ...</td>\n",
              "      <td>CLEARWATER, Fla. (Reuters) - Some of his supp...</td>\n",
              "      <td>politicsNews</td>\n",
              "      <td>April 28, 2017</td>\n",
              "      <td>True News</td>\n",
              "    </tr>\n",
              "    <tr>\n",
              "      <th>23</th>\n",
              "      <td>EMBARRASSING: Anti-Trump “THE HILL” Gets SLAMM...</td>\n",
              "      <td>#JokeNewsAfter record, cold temperatures were ...</td>\n",
              "      <td>politics</td>\n",
              "      <td>Dec 30, 2017</td>\n",
              "      <td>Fake News</td>\n",
              "    </tr>\n",
              "    <tr>\n",
              "      <th>24</th>\n",
              "      <td>China's new Politburo Standing Committee lineup</td>\n",
              "      <td>(Reuters) - China s ruling Communist Party on ...</td>\n",
              "      <td>worldnews</td>\n",
              "      <td>October 25, 2017</td>\n",
              "      <td>True News</td>\n",
              "    </tr>\n",
              "    <tr>\n",
              "      <th>25</th>\n",
              "      <td>Watch What Happens When a Muslim Woman Shows ...</td>\n",
              "      <td>Donald Trump has managed to attract the most r...</td>\n",
              "      <td>News</td>\n",
              "      <td>January 9, 2016</td>\n",
              "      <td>Fake News</td>\n",
              "    </tr>\n",
              "    <tr>\n",
              "      <th>26</th>\n",
              "      <td>WATCH WHAT HAPPENS When Guy Makes Undercover V...</td>\n",
              "      <td>YouTuber Joey Salads makes brilliant undercove...</td>\n",
              "      <td>left-news</td>\n",
              "      <td>Aug 2, 2016</td>\n",
              "      <td>Fake News</td>\n",
              "    </tr>\n",
              "    <tr>\n",
              "      <th>27</th>\n",
              "      <td>Trump to detour from campaign to visit Scotlan...</td>\n",
              "      <td>WASHINGTON (Reuters) - Facing slumping poll nu...</td>\n",
              "      <td>politicsNews</td>\n",
              "      <td>June 22, 2016</td>\n",
              "      <td>True News</td>\n",
              "    </tr>\n",
              "    <tr>\n",
              "      <th>28</th>\n",
              "      <td>Republican Congressman Is Currently Standing ...</td>\n",
              "      <td>The mental exhaustion of being a member of the...</td>\n",
              "      <td>News</td>\n",
              "      <td>May 30, 2017</td>\n",
              "      <td>Fake News</td>\n",
              "    </tr>\n",
              "    <tr>\n",
              "      <th>29</th>\n",
              "      <td>Clinton, Sanders race takes on angrier tone af...</td>\n",
              "      <td>(Reuters) - The race between Hillary Clinton a...</td>\n",
              "      <td>politicsNews</td>\n",
              "      <td>February 22, 2016</td>\n",
              "      <td>True News</td>\n",
              "    </tr>\n",
              "  </tbody>\n",
              "</table>\n",
              "</div>"
            ],
            "text/plain": [
              "                                                title  ...      label\n",
              "0   Trump's taco tweet baffles, riles social media...  ...  True News\n",
              "1   Top Democratic senator probes SWIFT, NY Fed ab...  ...  True News\n",
              "2   HE WAS SO CLOSE: We Were “Obamerica”…We Were M...  ...  Fake News\n",
              "3   Odebrecht paid firms linked to Peru's Kuczynsk...  ...  True News\n",
              "4   OOPS! HECKLERS FORCE HILLARY OFF Stage In LA A...  ...  Fake News\n",
              "5   Blocking Internet oversight transition a 'gift...  ...  True News\n",
              "6   Iran nuclear deal must change if U.S. to stay:...  ...  True News\n",
              "7   Putin, on Iraqi Kurdistan, says Moscow handles...  ...  True News\n",
              "8   In emotional farewell speech, Michelle Obama p...  ...  True News\n",
              "9    WATCH: GOP Senator Pleads With Trump To Drop ...  ...  Fake News\n",
              "10   Adbusters Magazine Does Something BRILLIANT W...  ...  Fake News\n",
              "11  Netanyahu sees U.S.-Israel ties 'reaching new ...  ...  True News\n",
              "12     France pays tribute to Paris dead two years on  ...  True News\n",
              "13  OOPS! NEW EVIDENCE SHOWS WOMAN Who Accused Roy...  ...  Fake News\n",
              "14   President Obama Tells Audience Why Americans ...  ...  Fake News\n",
              "15  Jailed British-Iranian charity worker received...  ...  True News\n",
              "16  MALIA OBAMA Flashes Her Booty In Front Of Huge...  ...  Fake News\n",
              "17  WHEN A GOVERNMENT PUTS IMMIGRANTS BEFORE CITIZ...  ...  Fake News\n",
              "18  U.S. Republican Ryan says wants 'Dreamer' acti...  ...  True News\n",
              "19   WATCH: Mika Brzezinski UNLOADS Fury Against T...  ...  Fake News\n",
              "20  LAWLESS: OBAMA WON’T TAKE EXECUTIVE AMNESTY TO...  ...  Fake News\n",
              "21  Lavrov: Russia-U.S. cooperation on Syria 'not ...  ...  True News\n",
              "22  'Get off of Twitter': As Trump nears Day 100, ...  ...  True News\n",
              "23  EMBARRASSING: Anti-Trump “THE HILL” Gets SLAMM...  ...  Fake News\n",
              "24    China's new Politburo Standing Committee lineup  ...  True News\n",
              "25   Watch What Happens When a Muslim Woman Shows ...  ...  Fake News\n",
              "26  WATCH WHAT HAPPENS When Guy Makes Undercover V...  ...  Fake News\n",
              "27  Trump to detour from campaign to visit Scotlan...  ...  True News\n",
              "28   Republican Congressman Is Currently Standing ...  ...  Fake News\n",
              "29  Clinton, Sanders race takes on angrier tone af...  ...  True News\n",
              "\n",
              "[30 rows x 5 columns]"
            ]
          },
          "metadata": {
            "tags": []
          },
          "execution_count": 43
        }
      ]
    },
    {
      "cell_type": "code",
      "metadata": {
        "id": "oQ-hvESy9pS5",
        "colab_type": "code",
        "colab": {}
      },
      "source": [
        "attr = df[\"text\"]\n",
        "targ = df[\"label\"]"
      ],
      "execution_count": 0,
      "outputs": []
    },
    {
      "cell_type": "code",
      "metadata": {
        "id": "_kpG6mzc5iZk",
        "colab_type": "code",
        "colab": {
          "base_uri": "https://localhost:8080/",
          "height": 87
        },
        "outputId": "66f17f5f-d56b-4bbe-b655-d09ec42ffa15"
      },
      "source": [
        "from sklearn.model_selection import train_test_split\n",
        "\n",
        "x_train, x_test, y_train, y_test = train_test_split(attr, targ, test_size=0.2, random_state=10)\n",
        "print(x_train.shape)\n",
        "print(x_test.shape)\n",
        "print(y_train.shape)\n",
        "print(y_test.shape)"
      ],
      "execution_count": 77,
      "outputs": [
        {
          "output_type": "stream",
          "text": [
            "(35918,)\n",
            "(8980,)\n",
            "(35918,)\n",
            "(8980,)\n"
          ],
          "name": "stdout"
        }
      ]
    },
    {
      "cell_type": "code",
      "metadata": {
        "id": "XBiGNWhk-qbR",
        "colab_type": "code",
        "colab": {
          "base_uri": "https://localhost:8080/",
          "height": 34
        },
        "outputId": "b2bd1516-6fc2-48b3-d66a-9e09ab667163"
      },
      "source": [
        "from sklearn.feature_extraction.text import TfidfVectorizer\n",
        "from sklearn.linear_model import PassiveAggressiveClassifier\n",
        "from sklearn.metrics import accuracy_score\n",
        "\n",
        "model = TfidfVectorizer(stop_words=\"english\", max_df=0.7)\n",
        "train_attr = model.fit_transform(x_train)\n",
        "test_attr = model.transform(x_test)\n",
        "\n",
        "cls = PassiveAggressiveClassifier(max_iter=50)\n",
        "cls.fit(train_attr, y_train)\n",
        "\n",
        "pred = cls.predict(test_attr)\n",
        "score = accuracy_score(pred, y_test)\n",
        "print(score)"
      ],
      "execution_count": 119,
      "outputs": [
        {
          "output_type": "stream",
          "text": [
            "0.9946547884187082\n"
          ],
          "name": "stdout"
        }
      ]
    },
    {
      "cell_type": "code",
      "metadata": {
        "id": "BNVVYVdrUFFh",
        "colab_type": "code",
        "colab": {
          "base_uri": "https://localhost:8080/",
          "height": 72
        },
        "outputId": "90f2ce64-5611-40b8-f24a-bb65ff96a10c"
      },
      "source": [
        "inp = str(input())\n",
        "inp_attr = model.transform([inp])\n",
        "print(cls.predict(inp_attr)[0])"
      ],
      "execution_count": 120,
      "outputs": [
        {
          "output_type": "stream",
          "text": [
            "Brazil has withdrawn its bid to host the 2023 Women's World Cup.  The Brazilian Football Confederation (CBF) said the government did not consider it wise to offer financial guarantees in the midst of the coronavirus pandemic.  Brazil will now support Colombia's proposal, which is up against Japan and a joint bid from Australia and New Zealand to host the 32-team tournament.  Fifa will vote to select the hosts on 25 June.  \"Because of the fiscal and economic austerity brought on by the Covid-19 pandemic, [the government] thought it would not be recommended to right now sign the guarantees asked for by Fifa,\" said a CBF statement.  Brazil has hosted a number of major international sporting competitions in recent years, including the men's World Cup in 2014, the 2016 Olympic and Paralympic Games and the Copa America in 2019. But the CBF felt it was an outsider to host yet another big event.  The country has been badly affected by the Covid-19 pandemic, with more than 35,000 deaths and in excess of 640,000 confirmed infections, but the latter number is believed to be much higher because of insufficient testing.\n",
            "True News\n"
          ],
          "name": "stdout"
        }
      ]
    }
  ]
}